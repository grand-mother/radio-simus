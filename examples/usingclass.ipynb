{
 "cells": [
  {
   "cell_type": "markdown",
   "metadata": {},
   "source": [
    "This script shows how to use the new software in ipython. Advantage to python: loaded events can be kept in memory. They do not have to be reloaded in case the plot has to be changed.\n",
    "\n",
    "The first step ist to hand over the folder path to the data (eventfolder = < >). As python script one would work with defining a main. The script can be downloaded as python-file after finishing development."
   ]
  },
  {
   "cell_type": "code",
   "execution_count": 1,
   "metadata": {},
   "outputs": [],
   "source": [
    "# path to folder containing the inp-file, trace files and antpos.dat \n",
    "eventfolder = \"../../CoREAS/GP300_centered/\""
   ]
  },
  {
   "cell_type": "code",
   "execution_count": 2,
   "metadata": {},
   "outputs": [],
   "source": [
    "import sys\n",
    "from sys import argv\n",
    "import os\n",
    "import glob\n",
    "\n",
    "import time\n",
    "\n",
    "import numpy as np\n",
    "from numpy import *\n",
    "\n",
    "import tqdm\n",
    "\n",
    "import matplotlib.pyplot as plt\n",
    "from matplotlib.pyplot import cm \n",
    "\n",
    "from astropy.table import Table\n",
    "from astropy.table import hstack\n",
    "import h5py"
   ]
  },
  {
   "cell_type": "code",
   "execution_count": 3,
   "metadata": {},
   "outputs": [],
   "source": [
    "### Set up LOGGING\n",
    "import logging\n",
    "logging.basicConfig(filename=\"example_usingclass.log\", level=logging.INFO)\n",
    "logger = logging.getLogger('Main')"
   ]
  },
  {
   "cell_type": "code",
   "execution_count": 4,
   "metadata": {},
   "outputs": [
    {
     "name": "stdout",
     "output_type": "stream",
     "text": [
      "..... Loading CONFIG FILE .....: /home/laval1NS/zilles/radio-simus/examples/test.config\n",
      "..... Loading CONFIG FILE .....: /home/laval1NS/zilles/radio-simus/examples/test.config\n"
     ]
    }
   ],
   "source": [
    "#### LOADING radio-simus packages\n",
    "from os.path import split, join, realpath\n",
    "root_dir = realpath(join(os.path.abspath(''), \"..\")) # = $PROJECT\n",
    "sys.path.append(join(\"/home/laval1NS/zilles/radio-simus/\", \"lib\", \"python\"))\n",
    "#import radio_simus \n",
    "#from radio_simus.signal_treatment import p2p\n",
    "from radio_simus.shower import *\n",
    "#from radio_simus.detector import detector, create_from_file, get_array, get_slopes, find_antennaposition, find_antennaslope\n",
    "#from radio_simus.detector_old import detector, create_from_file\n",
    "from radio_simus.detector import Detector\n",
    "from radio_simus.__init__ import arrayfile "
   ]
  },
  {
   "cell_type": "code",
   "execution_count": 5,
   "metadata": {},
   "outputs": [
    {
     "data": {
      "text/plain": [
       "'\\n##############################\\n### Preparing python3 script \\n###       MAIN   \\n##############################\\n\\nif __name__ == \\'__main__\\':\\n    \\n    if ( len(sys.argv)<2 ):\\n        print(\"\"\"\\n        Example on how to use classes\\n        -- Analysis trigger for events, create a list of events (class objects) and  trigger 1/0 to class attributes\\n        -- create a png with statistic for triggering\\n        \\n        Use: python3 example_usingclass.py <folder event set>\\n        Example: python3 example_usingclass.py ../../CoREAS/GP300_centered/\\n        \\n        NOTE: still ongoing work, already usable\\n        \\n        ATTENTION:\\n        -- adapt the paths given in the config-file so that eg the antenna reponse can be read-in correctly\\n        \"\"\")\\n        sys.exit(0)\\n\\n\\n\\n    # path to folder containing the inp-file, trace files and antpos.dat \\n    eventfolder = sys.argv[1]\\n    \\n    #### from here on -> indent\\n'"
      ]
     },
     "execution_count": 5,
     "metadata": {},
     "output_type": "execute_result"
    }
   ],
   "source": [
    "'''\n",
    "##############################\n",
    "### Preparing python3 script \n",
    "###       MAIN   \n",
    "##############################\n",
    "\n",
    "if __name__ == '__main__':\n",
    "    \n",
    "    if ( len(sys.argv)<2 ):\n",
    "        print(\"\"\"\n",
    "        Example on how to use classes\n",
    "        -- Analysis trigger for events, create a list of events (class objects) and  trigger 1/0 to class attributes\n",
    "        -- create a png with statistic for triggering\n",
    "        \n",
    "        Use: python3 example_usingclass.py <folder event set>\n",
    "        Example: python3 example_usingclass.py ../../CoREAS/GP300_centered/\n",
    "        \n",
    "        NOTE: still ongoing work, already usable\n",
    "        \n",
    "        ATTENTION:\n",
    "        -- adapt the paths given in the config-file so that eg the antenna reponse can be read-in correctly\n",
    "        \"\"\")\n",
    "        sys.exit(0)\n",
    "\n",
    "\n",
    "\n",
    "    # path to folder containing the inp-file, trace files and antpos.dat \n",
    "    eventfolder = sys.argv[1]\n",
    "    \n",
    "    #### from here on -> indent\n",
    "'''    "
   ]
  },
  {
   "cell_type": "code",
   "execution_count": 6,
   "metadata": {},
   "outputs": [],
   "source": [
    "### SETTING UP THE ANTENNA ARRAY\n",
    "\n",
    "#create  \"empty detector\"\n",
    "det = Detector(origin = ( 0 *u.m,  0 *u.m ,  0* u.m))\n",
    "#create detector=antenna array from file defined in config file\n",
    "det.create_from_file(arrayfile)"
   ]
  },
  {
   "cell_type": "code",
   "execution_count": 9,
   "metadata": {},
   "outputs": [
    {
     "name": "stderr",
     "output_type": "stream",
     "text": [
      "\r",
      "  0%|          | 0/113 [00:00<?, ?it/s]"
     ]
    },
    {
     "name": "stdout",
     "output_type": "stream",
     "text": [
      "\n",
      "Scan of events ...\n"
     ]
    },
    {
     "name": "stderr",
     "output_type": "stream",
     "text": [
      "100%|██████████| 113/113 [01:32<00:00,  1.23it/s]\n"
     ]
    }
   ],
   "source": [
    "### EVENT list\n",
    "print(\"\\nScan of events ...\")\n",
    "\n",
    "event = [] # python list\n",
    "# loop over all folder\n",
    "for path in tqdm.tqdm(glob.glob(eventfolder+\"/*/\")):\n",
    "    if os.path.isdir(path): # only pick event folders\n",
    "        logger.debug(\"... Reading Event from:\"+ path)\n",
    "\n",
    "            \n",
    "        # loop over all antenna positions in event\n",
    "        i=0\n",
    "        trigger_any=[]\n",
    "        trigger_xy=[]\n",
    "                \n",
    "\n",
    "        for file in glob.glob(path+\"/*.hdf5\"):\n",
    "            ## find antenna position and its slope per ID - works\n",
    "            ID = int(file.split('/')[-1].split('.hdf5')[0].split('table_')[-1])\n",
    "            #pos_ant = find_antennaposition(det, ID)\n",
    "            #pos_slope = find_antennaslope(det, ID)\n",
    "                \n",
    "            if i==0: # just get the first antenna to readin meta info            \n",
    "                #### EFIELD just as example how to read in\n",
    "                f = Table.read(file, path='efield') \n",
    "                #print(\"\\n simulated position \", f.meta[\"position\"])\n",
    "                    \n",
    "                # create shower object and set attributes\n",
    "                testshower = SimulatedShower()\n",
    "                loadInfo_toShower(testshower, f.meta)\n",
    "\n",
    "                logger.info(\"   SUMMARY EVENT: ShowerID = \"+  str(testshower.showerID)\n",
    "                            + \" primary = \"+ str(testshower.primary)+ \" energy/eV = \"+ str(testshower.energy) \n",
    "                            + \" zenith/deg = \"+ str(testshower.zenith)+ \" azimuth/deg = \"\n",
    "                            + str(testshower.azimuth)+ \" injectionheight/m = \"+ str(testshower.injectionheight) )\n",
    "                        \n",
    "                event.append(testshower)\n",
    "            i+=1\n",
    "                    \n",
    "                    \n",
    "            #### VOLTAGES - add trigger info to shower object\n",
    "            try:\n",
    "                g = Table.read(file, path='voltages') \n",
    "                    \n",
    "                # info: trigger = [thr_aggr, any_aggr, xz_aggr, thr_cons, any_cons, xy_cons]\n",
    "                # Here: only ask for aggressive value for triggering\n",
    "                if g.meta[\"trigger\"][1] ==1:\n",
    "                    trigger_any.append(ID)\n",
    "                if g.meta[\"trigger\"][2] ==1:\n",
    "                    trigger_xy.append(ID)\n",
    "            except IOError:\n",
    "                logger.error(\"Voltages not computed for antenna: \"+ str(ID) +\" in \"+path)\n",
    "\n",
    "                \n",
    "        ## EXAMPLE: Trigger Analysis\n",
    "        if len(trigger_any)>5 or len(trigger_xy)>5:\n",
    "            logger.info(\"   => shower triggers (aggr): any =\" + str(len(trigger_any)) + \" xy = \" + str(len(trigger_xy)))\n",
    "            # add trigger info to class\n",
    "            event[-1].trigger=1\n",
    "        else:\n",
    "            event[-1].trigger=0\n",
    "                  \n",
    "    else: \n",
    "        continue"
   ]
  },
  {
   "cell_type": "code",
   "execution_count": 10,
   "metadata": {},
   "outputs": [
    {
     "name": "stdout",
     "output_type": "stream",
     "text": [
      "\n",
      "Start an analysis ...\n",
      "\n",
      "Available attributes:  ('showerID', 'primary', 'energy', 'zenith', 'azimuth', 'injectionheight', 'trigger', 'simulation', 'Xmax')\n",
      "\n",
      "88 out of 113 events detected --> 77.87610619469027% detection rate\n",
      "\n"
     ]
    }
   ],
   "source": [
    "###### START ANALYSIS ################### \n",
    "print(\"\\nStart an analysis ...\")    \n",
    "\n",
    "# print attributes - define by object class, does not mean that they are !=None\n",
    "print(\"\\nAvailable attributes: \", testshower._attributes ) # refers to last event\n",
    "\n",
    "Event_ID=list(map(lambda i: i.showerID, event))\n",
    "\n",
    "### Calculate Ratio of detected events\n",
    "trigger=list(map(lambda i: i.trigger, event))\n",
    "print(\"\\n\"+str(sum(trigger))+\" out of \"+str(len(trigger))+\n",
    "      \" events detected --> \"+str(100.* sum(trigger)/len(trigger))+\"% detection rate\"+\"\\n\")    \n",
    "\n",
    "### find triggered events\n",
    "trigger=np.asarray(trigger)\n",
    "index = np.where(trigger==1)[0]\n",
    "\n",
    "# parameters\n",
    "energy=np.asarray(list(map(lambda i: i.energy/u.eV, event)))\n",
    "zenith=np.asarray(list(map(lambda i: i.zenith/u.deg, event)))\n",
    "azimuth=np.asarray(list(map(lambda i: i.azimuth/u.deg, event)))\n",
    "primary=np.asarray(list(map(lambda i: i.primary, event)))\n"
   ]
  },
  {
   "cell_type": "code",
   "execution_count": 11,
   "metadata": {},
   "outputs": [
    {
     "data": {
      "image/png": "[encoded data removed]",
      "text/plain": [
       "<Figure size 864x360 with 4 Axes>"
      ]
     },
     "metadata": {},
     "output_type": "display_data"
    }
   ],
   "source": [
    "# Plot\n",
    "plt.rcParams.update({'figure.figsize':(12,5)})\n",
    "\n",
    "fig, (ax1, ax2, ax3, ax4) = plt.subplots(1, 4)\n",
    "ax1.hist(energy, color=\"orange\", bins=50, alpha=0.5, label='all = '+str(len(trigger)))\n",
    "ax1.hist(energy[index], bins=50, label='trigger (aggr.) = '+str(sum(trigger)))\n",
    "ax1.legend()\n",
    "ax1.set_title('energy in eV')\n",
    "\n",
    "ax2.hist(zenith, color=\"orange\", bins=50, alpha=0.5)\n",
    "ax2.hist(zenith[index], bins=50)\n",
    "ax2.set_title('zenith in deg')\n",
    "\n",
    "ax3.hist(azimuth, color=\"orange\", bins=50, alpha=0.5)\n",
    "ax3.hist(azimuth[index], bins=50)\n",
    "ax3.set_title('azimuth in deg')\n",
    "\n",
    "ax4.hist(primary, color=\"orange\", bins=50, alpha=0.5)\n",
    "ax4.hist(primary[index], bins=50)\n",
    "ax4.set_title('primary')\n",
    "\n",
    "fig.tight_layout()\n",
    "plt.show()   "
   ]
  },
  {
   "cell_type": "code",
   "execution_count": 12,
   "metadata": {},
   "outputs": [
    {
     "name": "stdout",
     "output_type": "stream",
     "text": [
      "PNG saved:../../CoREAS/GP300_centered//trigger_stats.png\n"
     ]
    }
   ],
   "source": [
    "fig.savefig(eventfolder+\"/trigger_stats.png\")\n",
    "print(\"PNG saved:\" + eventfolder+\"/trigger_stats.png\")\n",
    "logger.info(\"PNG saved:\" + eventfolder+\"/trigger_stats.png\")"
   ]
  },
  {
   "cell_type": "code",
   "execution_count": 13,
   "metadata": {},
   "outputs": [],
   "source": [
    "#====== end of run =======      \n",
    "logger.info(\"Done within \"+str(time.clock()) +\"s\")    "
   ]
  },
  {
   "cell_type": "code",
   "execution_count": null,
   "metadata": {},
   "outputs": [],
   "source": []
  }
 ],
 "metadata": {
  "kernelspec": {
   "display_name": "Python 3",
   "language": "python",
   "name": "python3"
  },
  "language_info": {
   "codemirror_mode": {
    "name": "ipython",
    "version": 3
   },
   "file_extension": ".py",
   "mimetype": "text/x-python",
   "name": "python",
   "nbconvert_exporter": "python",
   "pygments_lexer": "ipython3",
   "version": "3.6.8"
  }
 },
 "nbformat": 4,
 "nbformat_minor": 2
}
